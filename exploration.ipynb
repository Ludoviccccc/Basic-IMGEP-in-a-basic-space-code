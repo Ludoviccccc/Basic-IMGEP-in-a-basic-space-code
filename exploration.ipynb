{
 "cells": [
  {
   "cell_type": "code",
   "execution_count": 13,
   "id": "7bdcfd35-76ef-4da2-928e-e1fd810431b6",
   "metadata": {},
   "outputs": [],
   "source": [
    "#Matar Ludovic"
   ]
  },
  {
   "cell_type": "code",
   "execution_count": 2,
   "id": "ee1ee1f9-27e6-45a8-b7ef-b17f767b4f8c",
   "metadata": {},
   "outputs": [],
   "source": [
    "import numpy as np\n",
    "import matplotlib.pyplot as plt\n",
    "from Simulator8085simCli.compiler import compile_program\n",
    "from Simulator8085simCli.execute_ import execute\n",
    "from tqdm import tqdm"
   ]
  },
  {
   "cell_type": "markdown",
   "id": "0d771aeb-a683-4d46-abca-96d7f37a79ea",
   "metadata": {},
   "source": [
    "* Dans le fichier *compiler.py*, la fonction *compile*_*program(program:str)->list* prend convertit une suite d'instructions LHLD, SHLD NOP en caractères hexadécimaux. Je modifie cette fonction pour qu'elle renvoie un objet de type string $compile$_$program(program:str)->str$: <br>\n",
    "Ex:\n",
    "SHLD 2024\n",
    "NOP\n",
    "LHLD 2024\n",
    "SHLD 2024\n",
    "NOP\n",
    "LHLD 2024\n",
    "$\\longrightarrow$\n",
    "22\n",
    "24\n",
    "20\n",
    "0\n",
    "22\n",
    "25\n",
    "20\n",
    "0\n",
    "2a\n",
    "24\n",
    "20\n",
    "76 <br>\n",
    "\n",
    "\n",
    "* Le fichier $execute.py$ exécute ensuite le fichier compilé obtenu en caractères hexadécimaux avec le programme écrit dans une boucle while. C'est grace à ce fichier que je peux extraire des signatures comportementales, telles que le temps d'exécution, le temps de latence et le compteur interne.\n",
    "* Le fichier execute_.py est une modification de $execute.py$. Avec la fonction time.time,\n",
    "    1. Je calcule le temps d'execution $full$_$time$ de la boucle while correspondant au code pour exécuter le fichier compilé.\n",
    "    2. Je calcule aussi le temps culumé $latence$ passé dans les conditions $if, elif$ et $else$.\n",
    "    3. En plus de renvoyer ces deux valeurs, j'ajoute le nombre d'itérations de la boucle while $iteration$_$count$. <br>\n",
    "\n",
    "    \n",
    "J'obtiens donc un espace de signatures à 3 dimensions. De plus, j'ai remplacé les instructions $sys.exit()$ par $break$. Enfin, j'ai remplacé l'entièreté du code dans $execute.py$ par la fonction $execute$ prenant en argument le programme compilé et renvoyant $full$_$time$,  $latence$  et $iteration$_$count$. "
   ]
  },
  {
   "cell_type": "markdown",
   "id": "6ae94e51-c9d0-41da-9667-481206469c41",
   "metadata": {},
   "source": [
    "Avec le code ci-dessous, je crée aléatoirement un programme contenant les instructions \"NOP\",\"LHLD\", \"SHLD\""
   ]
  },
  {
   "cell_type": "code",
   "execution_count": 3,
   "id": "ecff50ac-cd0b-48eb-9763-f7aabbb94fc9",
   "metadata": {},
   "outputs": [],
   "source": [
    "def make_random_source_code(N = 100):\n",
    "    instructions= [\"NOP\",\"LHLD\", \"SHLD\"]\n",
    "    list_instruction = np.random.randint(0,len(instructions), (N,))\n",
    "    program = [instructions[ch] for ch in list_instruction]\n",
    "    program =\"\"\n",
    "    for ch in list_instruction:\n",
    "        program+= instructions[ch]\n",
    "        if ch:\n",
    "            arg = \"\"\n",
    "            for i in range(2):\n",
    "                rand = np.random.randint(0,255)\n",
    "                arg+=(rand<16)*\"0\" +hex(rand).split(\"0x\")[1]\n",
    "            program+=\" \"+ arg\n",
    "        program+=\"\\n\"\n",
    "    program+=\"HLT\"\n",
    "    return program"
   ]
  },
  {
   "cell_type": "markdown",
   "id": "f28cbc8b-3ba5-4455-bcb1-14d3076ab779",
   "metadata": {},
   "source": [
    "Exemple de sortie donnée par cette fonction pour N=4 instructions:"
   ]
  },
  {
   "cell_type": "code",
   "execution_count": 4,
   "id": "ed218bbc-0ddd-470a-a654-1cdfc0b0a5ba",
   "metadata": {},
   "outputs": [
    {
     "name": "stdout",
     "output_type": "stream",
     "text": [
      "NOP\n",
      "SHLD 32e7\n",
      "SHLD 3b75\n",
      "SHLD de65\n",
      "HLT\n"
     ]
    }
   ],
   "source": [
    "out = make_random_source_code(N = 4)\n",
    "print(out)"
   ]
  },
  {
   "cell_type": "markdown",
   "id": "fdda3268-760c-4292-8740-565b05a11678",
   "metadata": {},
   "source": [
    "# Implémentation du Buffer"
   ]
  },
  {
   "cell_type": "markdown",
   "id": "d4f3c25e-6e19-4560-a5f9-441a768e0524",
   "metadata": {},
   "source": [
    "J'implémente la classe Buffer qui permet de garder en mémoire des couples $(code, signatures)$. \n",
    "Elle est munie des attribus:\n",
    "* $self.code$_$list$. list. Contient des programmes écrits comme des variables de type str comme ci-dessous.\n",
    "* $self.signature$_$list$. Contient les signatures de type $dict$ que l'on ajoute en appellant la méthode $store$\n",
    "* $self.iterationcountarray$_$min $\n",
    "* $self.iterationcount$_$array$_$max$ \n",
    "* $self.full$_$timearray$_$min$\n",
    "* $self.full$_$timearray$_$max$\n",
    "* $self.latencearray$_$min$\n",
    "* $self.latencearray$_$max$\n",
    "  \n",
    "Elle est munie des méthodes:\n",
    "\n",
    "* $store(code:str, signature:dict)$ qui ajoute le code et la signature aux listes attribues $self.code$_$list$ et $self.signature$_$list$\n",
    "* $signature$_$at$_$random()->dict$ échantillone un point dans l'espace des signatures, ici définit comme un espace à trois dimensions, le temps d'exécution, le temps de latence, et le nombre d'iterations dans la boucle.\n",
    "* $select$_$closest$_$code(self,signature: dict)->dict$: La méthode choisie la signature apparetenant au buffer qui minimise sa distance quadratique avec la signature en argument.\n",
    "* $__init__(n:int,max_instructions:int)$. Avec $n$ le nombre de programmes pour initialiser le buffer, et $max$_$instructions$ qui correspond au nombre maximum d'instructions dans les programmes. Choisir n grand permet d'obtenir des minima et maxima bien représentatifs, et assure de tirer aléatoirement des signatures cohérentes."
   ]
  },
  {
   "cell_type": "code",
   "execution_count": 5,
   "id": "2dae6bea-0a3f-4325-b89c-4dbef04b6c28",
   "metadata": {},
   "outputs": [],
   "source": [
    "class Buffer:\n",
    "    def __init__(self,n:int,max_instructions:int):\n",
    "        \"\"\"\n",
    "        code_list: list. Contains programs writtens as str\n",
    "        signature_list: list. Contains signatures of the corresponding program execution, of type dict\n",
    "        idx_list: list. Contains the indices for the corresponding code and signature\n",
    "        n: int. number of couple(s) (code, signature) to init the buffer with\n",
    "        max_instructions: int. Maximum number of instructions for the initialization programs\n",
    "        \"\"\"\n",
    "        self.code_list = []\n",
    "        self.signature_list = []\n",
    "        self.idx_list = []\n",
    "        self.iteration_count_array_min = 1000\n",
    "        self.iteration_count_array_max = 0\n",
    "        self.full_time_array_min = 1000\n",
    "        self.full_time_array_max = 0\n",
    "        self.latence_array_min = 1000\n",
    "        self.latence_array_max = 0\n",
    "        for i in range(n):\n",
    "            program = make_random_source_code(10)\n",
    "            compiled = compile_program(program)\n",
    "            self.store(program,execute(compiled))\n",
    "    def store(self,code:str, signature:dict):\n",
    "        self.code_list.append(code)\n",
    "        self.signature_list.append(signature)\n",
    "        if signature[\"iteration_count\"]<self.iteration_count_array_min:\n",
    "            self.iteration_count_array_min = signature[\"iteration_count\"]\n",
    "        if signature[\"iteration_count\"]>self.iteration_count_array_max:\n",
    "            self.iteration_count_array_max = signature[\"iteration_count\"]\n",
    "        if signature[\"full_time\"]<self.full_time_array_min:\n",
    "            self.full_time_array_min = signature[\"full_time\"]\n",
    "        if signature[\"full_time\"]>self.full_time_array_max:\n",
    "            self.full_time_array_max = signature[\"full_time\"]\n",
    "        if signature[\"latence\"]<self.latence_array_min:\n",
    "            self.latence_array_min = signature[\"latence\"]\n",
    "        if signature[\"latence\"]>self.latence_array_max:\n",
    "            self.latence_array_max = signature[\"latence\"]\n",
    "    def select_closest_code(self,signature: dict)->dict:\n",
    "        min_distance = 0\n",
    "        idx = 0\n",
    "        for j,signature_buffer in enumerate(self.signature_list):\n",
    "            dist = 0\n",
    "            for k in signature_buffer.keys():\n",
    "                dist += (signature_buffer[k] - signature[k])**2\n",
    "            if min_distance:\n",
    "                if dist<min_distance:\n",
    "                    min_distance= dist\n",
    "                    idx = j\n",
    "            else:\n",
    "                min_distance = dist\n",
    "        return {\"code\": self.code_list[idx] ,\"signature\": self.signature_list[idx]}\n",
    "    def signature_at_random(self)->dict:\n",
    "        return {\"latence\":np.random.uniform(self.latence_array_min, self.latence_array_max, (1,)),\n",
    "         \"full_time\": np.random.uniform(self.full_time_array_min, self.full_time_array_max, (1,)),\n",
    "         \"iteration_count\": np.random.randint(self.iteration_count_array_min, self.iteration_count_array_max+1, (1,))}"
   ]
  },
  {
   "cell_type": "markdown",
   "id": "d56b1962-b23b-4c28-8fbe-ca73eafd17e0",
   "metadata": {},
   "source": [
    "# On ecrit le code de mutation"
   ]
  },
  {
   "cell_type": "markdown",
   "id": "9fa63d80-3df1-4be6-ac79-f18b337176d0",
   "metadata": {},
   "source": [
    "Je choisis de modifier le code avant compilation pour m'assurer de rester dans le cadre limité aux instructions LHLD, SHLD et NOP."
   ]
  },
  {
   "cell_type": "code",
   "execution_count": 6,
   "id": "10254827-c3a1-4a23-9493-bd7f04e30de3",
   "metadata": {},
   "outputs": [],
   "source": [
    "def code_mutation(program:str):\n",
    "    \"\"\"\n",
    "    program: str. LHLD, SHLD and  NOP instructions\n",
    "    \"\"\"\n",
    "    instructions= [\"NOP\",\"LHLD\", \"SHLD\"]\n",
    "    program_split = program.split(\"\\n\")\n",
    "    istr = np.random.randint(0,len(instructions), (1,)).item()\n",
    "    arg = \"\"\n",
    "    if istr:\n",
    "        for i in range(2):\n",
    "            rand = np.random.randint(0,255)\n",
    "            arg+=(rand<16)*\"0\"+ hex(rand).split(\"0x\")[1]\n",
    "    idx = np.random.randint(0,len(program_split)-1,(1,)).item()\n",
    "    program_split[idx] = instructions[istr] + \" \" + arg\n",
    "    program = \"\"\n",
    "    for ch in program_split:\n",
    "        program+=ch+\"\\n\"\n",
    "    return program"
   ]
  },
  {
   "cell_type": "markdown",
   "id": "500e7741-2b90-46a8-9c54-9e0f1dce539e",
   "metadata": {},
   "source": [
    "Je modifie aléatoiremenent l'instruction écrite à une ligne selectionée aléatoirement. J'ajoute argument choisi alétoirement si l'instruction selectionée est LHLD ou SHLD. Exemple de mutation de code:"
   ]
  },
  {
   "cell_type": "code",
   "execution_count": 7,
   "id": "d6f174c2-bbd6-4875-bda0-db7fb55f1673",
   "metadata": {},
   "outputs": [
    {
     "name": "stdout",
     "output_type": "stream",
     "text": [
      "NOP\n",
      "SHLD 32e7\n",
      "SHLD 3b75\n",
      "SHLD de65\n",
      "HLT\n",
      "==>\n",
      "NOP\n",
      "SHLD 32e7\n",
      "SHLD 3b75\n",
      "SHLD c765\n",
      "HLT\n",
      "\n"
     ]
    }
   ],
   "source": [
    "print(out)\n",
    "print(\"==>\")\n",
    "print(code_mutation(out))"
   ]
  },
  {
   "cell_type": "markdown",
   "id": "2b31cadd-236a-461f-8eb6-a5fe53d2d6a5",
   "metadata": {},
   "source": [
    "# Pseudocode IMGEP simplifié"
   ]
  },
  {
   "cell_type": "markdown",
   "id": "cd31deee-c27d-45f0-9aff-736e7023cf61",
   "metadata": {},
   "source": [
    "J'implémente la boucle décrite dans l'excercice qui a pour objectif d’explorer l’espace de codes afin de découvrir\n",
    "une diversité de signatures comportementales possibles"
   ]
  },
  {
   "cell_type": "code",
   "execution_count": 12,
   "id": "1635b8f0-6d18-45a4-ad28-4ce6992a1dee",
   "metadata": {},
   "outputs": [
    {
     "name": "stderr",
     "output_type": "stream",
     "text": [
      "100%|███████████████████████████████████████████████████████████████████████████████████████████████████████████████████████████████████████████████████████████████████| 5000/5000 [01:43<00:00, 48.18it/s]\n"
     ]
    }
   ],
   "source": [
    "N = 5000\n",
    "buffer = Buffer(1000,100)\n",
    "signature_array = np.array(buffer.signature_list)\n",
    "for j in tqdm(range(N)):\n",
    "    random_signature = buffer.signature_at_random()\n",
    "    out = buffer.select_closest_code(random_signature)\n",
    "    program = out[\"code\"]\n",
    "    mutated_program= code_mutation(program)\n",
    "    assert mutated_program!=program\n",
    "    compiled = compile_program(mutated_program)\n",
    "    buffer.store(program,execute(compiled))"
   ]
  },
  {
   "cell_type": "markdown",
   "id": "b7ec1acf-10aa-477c-8112-560afcc6db36",
   "metadata": {},
   "source": [
    "# Discussion résultats"
   ]
  },
  {
   "cell_type": "markdown",
   "id": "05d5eb6b-80fe-4371-8679-1a25a859433a",
   "metadata": {},
   "source": [
    "Sur les plots présentés ci-dessous, on lit les valeurs des temps d'exécution et des temps de latences et fonction des indices dans le buffer. Les mille premières valeurs permettent d'initialiser le buffer, et donc de calculer les valeurs min et max l'échantillonnage. Les valeurs suivantes sont celles obtenues pendant la boucle d'exploration. "
   ]
  },
  {
   "cell_type": "code",
   "execution_count": 13,
   "id": "7cb95ae3-426d-47ec-9e52-20a75e54108e",
   "metadata": {},
   "outputs": [
    {
     "name": "stdout",
     "output_type": "stream",
     "text": [
      "iteration count min 1 \n",
      " iteration count max 11 \n",
      " full time min 2.0265579223632812e-05 \n",
      " full time max 0.00023603439331054688 \n",
      " latence min 2.384185791015625e-07 \n",
      " latence max 1.1920928955078125e-05\n"
     ]
    }
   ],
   "source": [
    "print(\"iteration count min\",buffer.iteration_count_array_min,\"\\n\",\n",
    "      \"iteration count max\",buffer.iteration_count_array_max,\"\\n\",\n",
    "      \"full time min\", buffer.full_time_array_min,\"\\n\",\n",
    "      \"full time max\", buffer.full_time_array_max,\"\\n\",\n",
    "      \"latence min\",buffer.latence_array_min,\"\\n\",\n",
    "      \"latence max\", buffer.latence_array_max)"
   ]
  },
  {
   "cell_type": "code",
   "execution_count": 14,
   "id": "85425e41-30d5-49a7-96d9-6eaaac8d444e",
   "metadata": {},
   "outputs": [],
   "source": [
    "full_time = [v[\"full_time\"] for v in buffer.signature_list]\n",
    "latence = [v[\"latence\"] for v in buffer.signature_list]"
   ]
  },
  {
   "cell_type": "code",
   "execution_count": 15,
   "id": "1690b57a-a749-4697-83cd-9b0b9011d1eb",
   "metadata": {},
   "outputs": [
    {
     "data": {
      "image/png": "[encoded data removed]",
      "text/plain": [
       "<Figure size 640x480 with 1 Axes>"
      ]
     },
     "metadata": {},
     "output_type": "display_data"
    },
    {
     "data": {
      "image/png": "[encoded data removed]",
      "text/plain": [
       "<Figure size 640x480 with 1 Axes>"
      ]
     },
     "metadata": {},
     "output_type": "display_data"
    }
   ],
   "source": [
    "plt.plot(full_time)\n",
    "plt.title(\"full time\")\n",
    "plt.xlabel(\"buffer idx\")\n",
    "plt.ylabel(\"time (s)\")\n",
    "plt.show()\n",
    "plt.plot(latence)\n",
    "plt.title(\"latence\")\n",
    "plt.xlabel(\"buffer idx\")\n",
    "plt.ylabel(\"time (s)\")\n",
    "plt.show()"
   ]
  },
  {
   "cell_type": "code",
   "execution_count": null,
   "id": "2f17b3f9-4ef8-46fc-8c21-b229c3ebcbe2",
   "metadata": {},
   "outputs": [],
   "source": []
  },
  {
   "cell_type": "code",
   "execution_count": null,
   "id": "11c2c9e6-5b5e-442e-a25f-375a7b82a374",
   "metadata": {},
   "outputs": [],
   "source": []
  }
 ],
 "metadata": {
  "kernelspec": {
   "display_name": "Python 3 (ipykernel)",
   "language": "python",
   "name": "python3"
  },
  "language_info": {
   "codemirror_mode": {
    "name": "ipython",
    "version": 3
   },
   "file_extension": ".py",
   "mimetype": "text/x-python",
   "name": "python",
   "nbconvert_exporter": "python",
   "pygments_lexer": "ipython3",
   "version": "3.10.12"
  }
 },
 "nbformat": 4,
 "nbformat_minor": 5
}
